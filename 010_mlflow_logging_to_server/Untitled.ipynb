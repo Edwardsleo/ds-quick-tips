{
 "cells": [
  {
   "cell_type": "code",
   "execution_count": 6,
   "metadata": {},
   "outputs": [],
   "source": [
    "# Importing in necessary libraries\n",
    "import pandas as pd\n",
    "from sklearn.model_selection import train_test_split\n",
    "from sklearn.metrics import mean_squared_error, mean_absolute_error, r2_score\n",
    "from sklearn.linear_model import ElasticNet\n",
    "import mlflow\n",
    "import mlflow.sklearn"
   ]
  },
  {
   "cell_type": "code",
   "execution_count": 7,
   "metadata": {},
   "outputs": [],
   "source": [
    "# Setting tracking URI\n",
    "mlflow.set_tracking_uri('http://mlflow-server.local')"
   ]
  },
  {
   "cell_type": "code",
   "execution_count": 8,
   "metadata": {},
   "outputs": [],
   "source": [
    "# Loading data and prepping for training\n",
    "df_wine = pd.read_csv('../data/wine/train.csv')\n",
    "\n",
    "X = df_wine.drop(columns = 'quality')\n",
    "y = df_wine[['quality']]\n",
    "\n",
    "X_train, X_val, y_train, y_val = train_test_split(X, y, random_state = 42)"
   ]
  },
  {
   "cell_type": "code",
   "execution_count": 9,
   "metadata": {},
   "outputs": [],
   "source": [
    "# Defining model parameters\n",
    "alpha = 1\n",
    "l1_ratio = 1"
   ]
  },
  {
   "cell_type": "code",
   "execution_count": 10,
   "metadata": {},
   "outputs": [],
   "source": [
    "# Running MLFlow script\n",
    "with mlflow.start_run():\n",
    "\n",
    "    # Instantiating model with model parameters\n",
    "    model = ElasticNet(alpha = alpha,\n",
    "                       l1_ratio = l1_ratio)\n",
    "\n",
    "    # Fitting training data to the model\n",
    "    model.fit(X_train, y_train)\n",
    "\n",
    "    # Running prediction on validation dataset\n",
    "    preds = model.predict(X_val)\n",
    "\n",
    "    # Getting metrics on the validation dataset\n",
    "    rmse = mean_squared_error(preds, y_val)\n",
    "    abs_error = mean_absolute_error(preds, y_val)\n",
    "    r2 = r2_score(preds, y_val)\n",
    "\n",
    "    # Logging params and metrics to MLFlow\n",
    "    mlflow.log_param('alpha', alpha)\n",
    "    mlflow.log_param('l1_ratio', l1_ratio)\n",
    "    mlflow.log_metric('rmse', rmse)\n",
    "    mlflow.log_metric('abs_error', abs_error)\n",
    "    mlflow.log_metric('r2', r2)\n",
    "\n",
    "    # Logging model to MLFlow\n",
    "    mlflow.sklearn.log_model(model, 'model')"
   ]
  },
  {
   "cell_type": "code",
   "execution_count": 11,
   "metadata": {},
   "outputs": [
    {
     "data": {
      "text/plain": [
       "'http://mlflow-server.local'"
      ]
     },
     "execution_count": 11,
     "metadata": {},
     "output_type": "execute_result"
    }
   ],
   "source": [
    "mlflow.get_registry_uri()"
   ]
  },
  {
   "cell_type": "code",
   "execution_count": null,
   "metadata": {},
   "outputs": [],
   "source": []
  }
 ],
 "metadata": {
  "kernelspec": {
   "display_name": "Python 3",
   "language": "python",
   "name": "python3"
  },
  "language_info": {
   "codemirror_mode": {
    "name": "ipython",
    "version": 3
   },
   "file_extension": ".py",
   "mimetype": "text/x-python",
   "name": "python",
   "nbconvert_exporter": "python",
   "pygments_lexer": "ipython3",
   "version": "3.7.6"
  }
 },
 "nbformat": 4,
 "nbformat_minor": 2
}
