{
 "cells": [
  {
   "cell_type": "markdown",
   "metadata": {},
   "source": [
    "# Data Science Quick Tips #008: MLFlow Part 1 - Getting Started with MLFlow!\n",
    "In this first post in our sub-series on MLFlow, we're going to take things easy by getting up and running with MLFlow. To make things easy on ourselves for modeling, we're simply going to use the Red Wine quality dataset instead of the Titanic dataset we've made use of in other posts. The script here is the exact same code you'll find in mlflow-wine.py. The only difference is that when you launch the MLFlow UI, you'll be able to see that the source is technically different."
   ]
  },
  {
   "cell_type": "code",
   "execution_count": 1,
   "metadata": {},
   "outputs": [],
   "source": [
    "# Importing in necessary libraries\n",
    "import pandas as pd\n",
    "\n",
    "from sklearn.model_selection import train_test_split\n",
    "from sklearn.metrics import mean_squared_error, mean_absolute_error, r2_score\n",
    "from sklearn.linear_model import ElasticNet\n",
    "\n",
    "import mlflow\n",
    "import mlflow.sklearn"
   ]
  },
  {
   "cell_type": "code",
   "execution_count": 2,
   "metadata": {},
   "outputs": [],
   "source": [
    "# Loading data and prepping for training\n",
    "df_wine = pd.read_csv('../data/wine/train.csv')\n",
    "\n",
    "X = df_wine.drop(columns = 'quality')\n",
    "y = df_wine[['quality']]\n",
    "\n",
    "X_train, X_val, y_train, y_val = train_test_split(X, y, random_state = 42)"
   ]
  },
  {
   "cell_type": "code",
   "execution_count": 3,
   "metadata": {},
   "outputs": [],
   "source": [
    "# Defining model parameters\n",
    "alpha = 1\n",
    "l1_ratio = 0.5"
   ]
  },
  {
   "cell_type": "code",
   "execution_count": 13,
   "metadata": {},
   "outputs": [],
   "source": [
    "# Running MLFlow script\n",
    "with mlflow.start_run():\n",
    "    \n",
    "    # Instantiating model with model parameters\n",
    "    model = ElasticNet(alpha = alpha,\n",
    "                       l1_ratio = l1_ratio)\n",
    "    \n",
    "    # Fitting training data to the model\n",
    "    model.fit(X_train, y_train)\n",
    "    \n",
    "    # Running prediction on validation dataset\n",
    "    preds = model.predict(X_val)\n",
    "    \n",
    "    # Getting metrics on the validation dataset\n",
    "    rmse = mean_squared_error(preds, y_val)\n",
    "    abs_error = mean_absolute_error(preds, y_val)\n",
    "    r2 = r2_score(preds, y_val)\n",
    "    \n",
    "    # Logging params and metrics to MLFlow\n",
    "    mlflow.log_param('alpha', alpha)\n",
    "    mlflow.log_param('l1_ratio', l1_ratio)\n",
    "    mlflow.log_metric('rmse', rmse)\n",
    "    mlflow.log_metric('abs_error', abs_error)\n",
    "    mlflow.log_metric('r2', r2)\n",
    "    \n",
    "    # Logging model to MLFlow\n",
    "    mlflow.sklearn.log_model(model, 'model')"
   ]
  },
  {
   "cell_type": "code",
   "execution_count": null,
   "metadata": {},
   "outputs": [],
   "source": []
  }
 ],
 "metadata": {
  "kernelspec": {
   "display_name": "Python 3",
   "language": "python",
   "name": "python3"
  },
  "language_info": {
   "codemirror_mode": {
    "name": "ipython",
    "version": 3
   },
   "file_extension": ".py",
   "mimetype": "text/x-python",
   "name": "python",
   "nbconvert_exporter": "python",
   "pygments_lexer": "ipython3",
   "version": "3.7.6"
  }
 },
 "nbformat": 4,
 "nbformat_minor": 2
}
